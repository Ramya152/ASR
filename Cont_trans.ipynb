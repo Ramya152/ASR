{
 "cells": [
  {
   "cell_type": "code",
   "execution_count": null,
   "id": "5a2c0bf1-f5c1-4dc7-b01d-7459a32e5ed4",
   "metadata": {},
   "outputs": [],
   "source": [
    "import azure.cognitiveservices.speech as speechsdk\n",
    "import os\n",
    "\n",
    "# Initialize Azure Speech SDK\n",
    "speech_key = os.getenv(\"AZURE_SPEECH_KEY\")\n",
    "service_region = os.getenv(\"AZURE_SERVICE_REGION\")\n",
    "speech_config = speechsdk.SpeechConfig(subscription=speech_key, region=service_region)\n",
    "\n",
    "# Create a new Speech Recognizer instance\n",
    "speech_recognizer = speechsdk.SpeechRecognizer(speech_config=speech_config)\n",
    "\n",
    "def recognized_cb(evt):\n",
    "    print(\"Recognized: {}\".format(evt.result.text))\n",
    "\n",
    "def continuous_transcription():\n",
    "    print(\"Starting continuous transcription. Press Ctrl+C to stop.\")\n",
    "\n",
    "    # Connect the event to the recognizer\n",
    "    speech_recognizer.recognized.connect(recognized_cb)\n",
    "\n",
    "    try:\n",
    "        # Start continuous recognition\n",
    "        speech_recognizer.start_continuous_recognition()\n",
    "\n",
    "        # Run recognition until stopped\n",
    "        import time\n",
    "        while True:\n",
    "            time.sleep(0.5)\n",
    "    except KeyboardInterrupt:\n",
    "        speech_recognizer.stop_continuous_recognition()\n",
    "        print(\"Recognition stopped.\")\n",
    "    except Exception as e:\n",
    "        print(f\"An error occurred: {e}\")\n",
    "        speech_recognizer.stop_continuous_recognition()\n",
    "\n",
    "# Run continuous transcription\n",
    "continuous_transcription()"
   ]
  },
  {
   "cell_type": "code",
   "execution_count": null,
   "id": "4ca98891-71a2-4243-bb05-2b235b28bd5c",
   "metadata": {},
   "outputs": [],
   "source": []
  }
 ],
 "metadata": {
  "kernelspec": {
   "display_name": "webapp2",
   "language": "python",
   "name": "webapp2"
  },
  "language_info": {
   "codemirror_mode": {
    "name": "ipython",
    "version": 3
   },
   "file_extension": ".py",
   "mimetype": "text/x-python",
   "name": "python",
   "nbconvert_exporter": "python",
   "pygments_lexer": "ipython3",
   "version": "3.10.13"
  }
 },
 "nbformat": 4,
 "nbformat_minor": 5
}
