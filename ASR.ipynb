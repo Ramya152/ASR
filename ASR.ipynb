{
 "cells": [
  {
   "cell_type": "code",
   "execution_count": 1,
   "id": "72b1f0e2-7de3-433b-914d-034db48e9397",
   "metadata": {},
   "outputs": [
    {
     "name": "stdout",
     "output_type": "stream",
     "text": [
      "Requirement already satisfied: azure-cognitiveservices-speech in /Users/ramyaamudapakula/miniconda3/envs/webapp2/lib/python3.10/site-packages (1.40.0)\n",
      "Requirement already satisfied: python-dotenv in /Users/ramyaamudapakula/miniconda3/envs/webapp2/lib/python3.10/site-packages (1.0.1)\n"
     ]
    }
   ],
   "source": [
    "!pip install azure-cognitiveservices-speech\n",
    "!pip install python-dotenv  # For loading environment variables"
   ]
  },
  {
   "cell_type": "code",
   "execution_count": 3,
   "id": "0f599a82-42fb-4515-a2c8-665bd403c93c",
   "metadata": {},
   "outputs": [],
   "source": [
    "from dotenv import load_dotenv\n",
    "import os\n",
    "\n",
    "# Load environment variables from .env file\n",
    "load_dotenv()\n",
    "\n",
    "# Fetch environment variables\n",
    "speech_key = os.getenv(\"AZURE_SPEECH_KEY\")\n",
    "service_region = os.getenv(\"AZURE_SERVICE_REGION\")\n"
   ]
  },
  {
   "cell_type": "code",
   "execution_count": 4,
   "id": "3873ef6e-54ad-4822-a77e-fbf8b62805fe",
   "metadata": {},
   "outputs": [],
   "source": [
    "import azure.cognitiveservices.speech as speechsdk\n",
    "\n",
    "# Initialize Azure Speech SDK with your key and region\n",
    "speech_key = os.getenv(\"AZURE_SPEECH_KEY\")\n",
    "service_region = os.getenv(\"AZURE_SERVICE_REGION\")\n",
    "speech_config = speechsdk.SpeechConfig(subscription=speech_key, region=service_region)\n",
    "\n",
    "# Create a recognizer that uses the microphone as input\n",
    "speech_recognizer = speechsdk.SpeechRecognizer(speech_config=speech_config)"
   ]
  },
  {
   "cell_type": "code",
   "execution_count": 5,
   "id": "1ebbcf41-be8d-4bf1-9717-013c6e69e317",
   "metadata": {},
   "outputs": [
    {
     "name": "stdout",
     "output_type": "stream",
     "text": [
      "Say something...\n",
      "Recognized: Hi, it's a beautiful day out here. I'm having a great time in NYC.\n"
     ]
    }
   ],
   "source": [
    "def start_transcription():\n",
    "    print(\"Say something...\")\n",
    "\n",
    "    # Start speech recognition (listens to microphone input)\n",
    "    result = speech_recognizer.recognize_once()\n",
    "\n",
    "    # Check the result\n",
    "    if result.reason == speechsdk.ResultReason.RecognizedSpeech:\n",
    "        print(\"Recognized: {}\".format(result.text))\n",
    "    elif result.reason == speechsdk.ResultReason.NoMatch:\n",
    "        print(\"No speech could be recognized\")\n",
    "    elif result.reason == speechsdk.ResultReason.Canceled:\n",
    "        cancellation_details = result.cancellation_details\n",
    "        print(\"Speech Recognition canceled: {}\".format(cancellation_details.reason))\n",
    "        if cancellation_details.reason == speechsdk.CancellationReason.Error:\n",
    "            print(\"Error details: {}\".format(cancellation_details.error_details))\n",
    "\n",
    "# Start real-time transcription\n",
    "start_transcription()"
   ]
  },
  {
   "cell_type": "code",
   "execution_count": null,
   "id": "dd2643a9-605c-4812-b6a1-9c277c435af2",
   "metadata": {},
   "outputs": [],
   "source": []
  }
 ],
 "metadata": {
  "kernelspec": {
   "display_name": "webapp2",
   "language": "python",
   "name": "webapp2"
  },
  "language_info": {
   "codemirror_mode": {
    "name": "ipython",
    "version": 3
   },
   "file_extension": ".py",
   "mimetype": "text/x-python",
   "name": "python",
   "nbconvert_exporter": "python",
   "pygments_lexer": "ipython3",
   "version": "3.10.13"
  }
 },
 "nbformat": 4,
 "nbformat_minor": 5
}
